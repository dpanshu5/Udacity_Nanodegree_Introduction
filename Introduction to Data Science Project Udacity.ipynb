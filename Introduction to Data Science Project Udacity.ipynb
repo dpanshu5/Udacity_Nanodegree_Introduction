{
 "cells": [
  {
   "cell_type": "markdown",
   "id": "5b659e79",
   "metadata": {},
   "source": [
    "### Business Objective/Understanding"
   ]
  },
  {
   "cell_type": "markdown",
   "id": "9315ddd5",
   "metadata": {},
   "source": [
    "#### This analysis is focused on a data obtained from a survey in May-June 2021 in India about the psychological impact of second wave of COVID-19 on the Indian population. Three main questions which we aim to get from our analysis:\n",
    "\n",
    "- To identify whether Depression, Anxiety or Stress is the most prevelant\n",
    "- To find out the level of severity of the mental health issues\n",
    "- To identify which mental health problem is having the most severity across people\n",
    "\n",
    "A standard questionnaire (DASS 21) was used in the survey which helped in calculating the level of severity of each mental health issue i.e., Anxiety, Depression and Stress (please find its link below)"
   ]
  },
  {
   "cell_type": "markdown",
   "id": "c2e90236",
   "metadata": {},
   "source": [
    "Survey Link: https://docs.google.com/forms/d/1TwdH5pWl6R_K-rWfscVPHwFUfw6tIS9hS91pQ5lFpxQ/edit\n",
    "\n",
    "Document for DASS 21 score: https://maic.qld.gov.au/wp-content/uploads/2016/07/DASS-21.pdf\n",
    "\n",
    "Medium Blog: https://medium.com/@deepanshupandey195/towards-understanding-the-psychological-impact-of-covid-19-on-indian-population-a553932df325"
   ]
  },
  {
   "cell_type": "markdown",
   "id": "a0e60571",
   "metadata": {},
   "source": [
    "#### Importing Relevant Libraries"
   ]
  },
  {
   "cell_type": "code",
   "execution_count": 1,
   "id": "c3708477",
   "metadata": {},
   "outputs": [],
   "source": [
    "import pandas as pd\n",
    "import matplotlib.pyplot as plt\n",
    "import re\n",
    "import seaborn as sns\n",
    "import warnings\n",
    "warnings.filterwarnings(\"ignore\")"
   ]
  },
  {
   "cell_type": "markdown",
   "id": "ccc80107",
   "metadata": {},
   "source": [
    "#### Loading Survey Data"
   ]
  },
  {
   "cell_type": "code",
   "execution_count": 2,
   "id": "d9aa39d4",
   "metadata": {},
   "outputs": [],
   "source": [
    "survey_data = pd.read_csv(\"Covid 19 Mental Health Survey.csv\")\n",
    "col_name_df = pd.read_csv(\"Column Names for Dataframe.csv\")"
   ]
  },
  {
   "cell_type": "code",
   "execution_count": 3,
   "id": "421d4c1b",
   "metadata": {},
   "outputs": [
    {
     "data": {
      "text/html": [
       "<div>\n",
       "<style scoped>\n",
       "    .dataframe tbody tr th:only-of-type {\n",
       "        vertical-align: middle;\n",
       "    }\n",
       "\n",
       "    .dataframe tbody tr th {\n",
       "        vertical-align: top;\n",
       "    }\n",
       "\n",
       "    .dataframe thead th {\n",
       "        text-align: right;\n",
       "    }\n",
       "</style>\n",
       "<table border=\"1\" class=\"dataframe\">\n",
       "  <thead>\n",
       "    <tr style=\"text-align: right;\">\n",
       "      <th></th>\n",
       "      <th>Timestamp</th>\n",
       "      <th>In which State/UT do you currently live?</th>\n",
       "      <th>What is your age?</th>\n",
       "      <th>Please select your gender.</th>\n",
       "      <th>How would you describe your occupation?</th>\n",
       "      <th>How many earning members are there in your immediate family?</th>\n",
       "      <th>What is your annual household income (in rupees ₹)?</th>\n",
       "      <th>How has your overall household income changed during COVID-19?</th>\n",
       "      <th>Do you or your family have any pending loan(s)?</th>\n",
       "      <th>Did you or anyone in your family get infected by COVID-19?</th>\n",
       "      <th>...</th>\n",
       "      <th>Please read each statement and select number 0, 1, 2 or 3 which indicates how much the statement applied to you over the past 3-4 weeks. (0 being the least; 3 being the most) [I felt I wasn’t worth much as a person]</th>\n",
       "      <th>Please read each statement and select number 0, 1, 2 or 3 which indicates how much the statement applied to you over the past 3-4 weeks. (0 being the least; 3 being the most) [I felt that life was meaningless]</th>\n",
       "      <th>Please read each statement and select number 0, 1, 2 or 3 which indicates how much the statement applied to you over the past 3-4 weeks. (0 being the least; 3 being the most) [I found it hard to take things easily]</th>\n",
       "      <th>Please read each statement and select number 0, 1, 2 or 3 which indicates how much the statement applied to you over the past 3-4 weeks. (0 being the least; 3 being the most) [I tended to over-react to situations]</th>\n",
       "      <th>Please read each statement and select number 0, 1, 2 or 3 which indicates how much the statement applied to you over the past 3-4 weeks. (0 being the least; 3 being the most) [I felt that I was nervous ]</th>\n",
       "      <th>Please read each statement and select number 0, 1, 2 or 3 which indicates how much the statement applied to you over the past 3-4 weeks. (0 being the least; 3 being the most) [I found myself getting agitated]</th>\n",
       "      <th>Please read each statement and select number 0, 1, 2 or 3 which indicates how much the statement applied to you over the past 3-4 weeks. (0 being the least; 3 being the most) [I found it difficult to relax]</th>\n",
       "      <th>Please read each statement and select number 0, 1, 2 or 3 which indicates how much the statement applied to you over the past 3-4 weeks. (0 being the least; 3 being the most) [I was generally intolerant of things]</th>\n",
       "      <th>Please read each statement and select number 0, 1, 2 or 3 which indicates how much the statement applied to you over the past 3-4 weeks. (0 being the least; 3 being the most) [I felt unusually sensitive ]</th>\n",
       "      <th>During the past one month, which of the following have you experienced the most?</th>\n",
       "    </tr>\n",
       "  </thead>\n",
       "  <tbody>\n",
       "    <tr>\n",
       "      <th>0</th>\n",
       "      <td>2021/05/22 3:11:51 PM GMT+5:30</td>\n",
       "      <td>Delhi</td>\n",
       "      <td>18 - 25 years old</td>\n",
       "      <td>Male</td>\n",
       "      <td>Private Sector Employee</td>\n",
       "      <td>2</td>\n",
       "      <td>10 - 20 lakhs</td>\n",
       "      <td>No change</td>\n",
       "      <td>Yes</td>\n",
       "      <td>Yes</td>\n",
       "      <td>...</td>\n",
       "      <td>1</td>\n",
       "      <td>1</td>\n",
       "      <td>2</td>\n",
       "      <td>2</td>\n",
       "      <td>1</td>\n",
       "      <td>2</td>\n",
       "      <td>2</td>\n",
       "      <td>1</td>\n",
       "      <td>2</td>\n",
       "      <td>Depression (feeling of sadness, loss of intere...</td>\n",
       "    </tr>\n",
       "    <tr>\n",
       "      <th>1</th>\n",
       "      <td>2021/05/22 3:14:54 PM GMT+5:30</td>\n",
       "      <td>Delhi</td>\n",
       "      <td>18 - 25 years old</td>\n",
       "      <td>Male</td>\n",
       "      <td>Private Sector Employee</td>\n",
       "      <td>3 or more</td>\n",
       "      <td>10 - 20 lakhs</td>\n",
       "      <td>No change</td>\n",
       "      <td>No</td>\n",
       "      <td>No</td>\n",
       "      <td>...</td>\n",
       "      <td>0</td>\n",
       "      <td>1</td>\n",
       "      <td>1</td>\n",
       "      <td>0</td>\n",
       "      <td>1</td>\n",
       "      <td>0</td>\n",
       "      <td>2</td>\n",
       "      <td>1</td>\n",
       "      <td>1</td>\n",
       "      <td>Anxiety (feeling of worry, nervousness etc.)</td>\n",
       "    </tr>\n",
       "  </tbody>\n",
       "</table>\n",
       "<p>2 rows × 40 columns</p>\n",
       "</div>"
      ],
      "text/plain": [
       "                        Timestamp In which State/UT do you currently live?  \\\n",
       "0  2021/05/22 3:11:51 PM GMT+5:30                                    Delhi   \n",
       "1  2021/05/22 3:14:54 PM GMT+5:30                                    Delhi   \n",
       "\n",
       "   What is your age? Please select your gender.  \\\n",
       "0  18 - 25 years old                       Male   \n",
       "1  18 - 25 years old                       Male   \n",
       "\n",
       "  How would you describe your occupation?  \\\n",
       "0                 Private Sector Employee   \n",
       "1                 Private Sector Employee   \n",
       "\n",
       "  How many earning members are there in your immediate family?  \\\n",
       "0                                                  2             \n",
       "1                                          3 or more             \n",
       "\n",
       "  What is your annual household income (in rupees ₹)?  \\\n",
       "0                                      10 - 20 lakhs    \n",
       "1                                      10 - 20 lakhs    \n",
       "\n",
       "  How has your overall household income changed during COVID-19?  \\\n",
       "0                                          No change               \n",
       "1                                          No change               \n",
       "\n",
       "  Do you or your family have any pending loan(s)?  \\\n",
       "0                                             Yes   \n",
       "1                                              No   \n",
       "\n",
       "  Did you or anyone in your family get infected by COVID-19?  ...  \\\n",
       "0                                                Yes          ...   \n",
       "1                                                 No          ...   \n",
       "\n",
       "  Please read each statement and select number 0, 1, 2 or 3 which indicates how much the statement applied to you over the past 3-4 weeks. (0 being the least; 3 being the most) [I felt I wasn’t worth much as a person]  \\\n",
       "0                                                  1                                                                                                                                                                        \n",
       "1                                                  0                                                                                                                                                                        \n",
       "\n",
       "  Please read each statement and select number 0, 1, 2 or 3 which indicates how much the statement applied to you over the past 3-4 weeks. (0 being the least; 3 being the most) [I felt that life was meaningless]  \\\n",
       "0                                                  1                                                                                                                                                                  \n",
       "1                                                  1                                                                                                                                                                  \n",
       "\n",
       "  Please read each statement and select number 0, 1, 2 or 3 which indicates how much the statement applied to you over the past 3-4 weeks. (0 being the least; 3 being the most) [I found it hard to take things easily]  \\\n",
       "0                                                  2                                                                                                                                                                       \n",
       "1                                                  1                                                                                                                                                                       \n",
       "\n",
       "  Please read each statement and select number 0, 1, 2 or 3 which indicates how much the statement applied to you over the past 3-4 weeks. (0 being the least; 3 being the most) [I tended to over-react to situations]  \\\n",
       "0                                                  2                                                                                                                                                                      \n",
       "1                                                  0                                                                                                                                                                      \n",
       "\n",
       "  Please read each statement and select number 0, 1, 2 or 3 which indicates how much the statement applied to you over the past 3-4 weeks. (0 being the least; 3 being the most) [I felt that I was nervous ]  \\\n",
       "0                                                  1                                                                                                                                                            \n",
       "1                                                  1                                                                                                                                                            \n",
       "\n",
       "  Please read each statement and select number 0, 1, 2 or 3 which indicates how much the statement applied to you over the past 3-4 weeks. (0 being the least; 3 being the most) [I found myself getting agitated]  \\\n",
       "0                                                  2                                                                                                                                                                 \n",
       "1                                                  0                                                                                                                                                                 \n",
       "\n",
       "  Please read each statement and select number 0, 1, 2 or 3 which indicates how much the statement applied to you over the past 3-4 weeks. (0 being the least; 3 being the most) [I found it difficult to relax]  \\\n",
       "0                                                  2                                                                                                                                                               \n",
       "1                                                  2                                                                                                                                                               \n",
       "\n",
       "   Please read each statement and select number 0, 1, 2 or 3 which indicates how much the statement applied to you over the past 3-4 weeks. (0 being the least; 3 being the most) [I was generally intolerant of things]  \\\n",
       "0                                                  1                                                                                                                                                                       \n",
       "1                                                  1                                                                                                                                                                       \n",
       "\n",
       "   Please read each statement and select number 0, 1, 2 or 3 which indicates how much the statement applied to you over the past 3-4 weeks. (0 being the least; 3 being the most) [I felt unusually sensitive ]  \\\n",
       "0                                                  2                                                                                                                                                              \n",
       "1                                                  1                                                                                                                                                              \n",
       "\n",
       "   During the past one month, which of the following have you experienced the most?  \n",
       "0  Depression (feeling of sadness, loss of intere...                                 \n",
       "1       Anxiety (feeling of worry, nervousness etc.)                                 \n",
       "\n",
       "[2 rows x 40 columns]"
      ]
     },
     "execution_count": 3,
     "metadata": {},
     "output_type": "execute_result"
    }
   ],
   "source": [
    "survey_data.head(2) #printing head of data to see the column names; survey questions are column names"
   ]
  },
  {
   "cell_type": "code",
   "execution_count": 4,
   "id": "e1198689",
   "metadata": {},
   "outputs": [],
   "source": [
    "survey_data.columns = list(col_name_df[\"Column Name \"]) \n",
    "#Loading column data frame to change survey questions to relevant col names"
   ]
  },
  {
   "cell_type": "code",
   "execution_count": 5,
   "id": "355e125b",
   "metadata": {},
   "outputs": [
    {
     "data": {
      "text/html": [
       "<div>\n",
       "<style scoped>\n",
       "    .dataframe tbody tr th:only-of-type {\n",
       "        vertical-align: middle;\n",
       "    }\n",
       "\n",
       "    .dataframe tbody tr th {\n",
       "        vertical-align: top;\n",
       "    }\n",
       "\n",
       "    .dataframe thead th {\n",
       "        text-align: right;\n",
       "    }\n",
       "</style>\n",
       "<table border=\"1\" class=\"dataframe\">\n",
       "  <thead>\n",
       "    <tr style=\"text-align: right;\">\n",
       "      <th></th>\n",
       "      <th>Timestamp</th>\n",
       "      <th>State</th>\n",
       "      <th>Age</th>\n",
       "      <th>Gender</th>\n",
       "      <th>Occupation</th>\n",
       "      <th>Earning Members</th>\n",
       "      <th>Household Income</th>\n",
       "      <th>Income Affected</th>\n",
       "      <th>Loan</th>\n",
       "      <th>Covid positive</th>\n",
       "      <th>...</th>\n",
       "      <th>Depression 6</th>\n",
       "      <th>Depression 7</th>\n",
       "      <th>Stress 1</th>\n",
       "      <th>Stress 2</th>\n",
       "      <th>Stress 3</th>\n",
       "      <th>Stress 4</th>\n",
       "      <th>Stress 5</th>\n",
       "      <th>Stress 6</th>\n",
       "      <th>Stress 7</th>\n",
       "      <th>Most Experienced Issue</th>\n",
       "    </tr>\n",
       "  </thead>\n",
       "  <tbody>\n",
       "    <tr>\n",
       "      <th>0</th>\n",
       "      <td>2021/05/22 3:11:51 PM GMT+5:30</td>\n",
       "      <td>Delhi</td>\n",
       "      <td>18 - 25 years old</td>\n",
       "      <td>Male</td>\n",
       "      <td>Private Sector Employee</td>\n",
       "      <td>2</td>\n",
       "      <td>10 - 20 lakhs</td>\n",
       "      <td>No change</td>\n",
       "      <td>Yes</td>\n",
       "      <td>Yes</td>\n",
       "      <td>...</td>\n",
       "      <td>1</td>\n",
       "      <td>1</td>\n",
       "      <td>2</td>\n",
       "      <td>2</td>\n",
       "      <td>1</td>\n",
       "      <td>2</td>\n",
       "      <td>2</td>\n",
       "      <td>1</td>\n",
       "      <td>2</td>\n",
       "      <td>Depression (feeling of sadness, loss of intere...</td>\n",
       "    </tr>\n",
       "    <tr>\n",
       "      <th>1</th>\n",
       "      <td>2021/05/22 3:14:54 PM GMT+5:30</td>\n",
       "      <td>Delhi</td>\n",
       "      <td>18 - 25 years old</td>\n",
       "      <td>Male</td>\n",
       "      <td>Private Sector Employee</td>\n",
       "      <td>3 or more</td>\n",
       "      <td>10 - 20 lakhs</td>\n",
       "      <td>No change</td>\n",
       "      <td>No</td>\n",
       "      <td>No</td>\n",
       "      <td>...</td>\n",
       "      <td>0</td>\n",
       "      <td>1</td>\n",
       "      <td>1</td>\n",
       "      <td>0</td>\n",
       "      <td>1</td>\n",
       "      <td>0</td>\n",
       "      <td>2</td>\n",
       "      <td>1</td>\n",
       "      <td>1</td>\n",
       "      <td>Anxiety (feeling of worry, nervousness etc.)</td>\n",
       "    </tr>\n",
       "  </tbody>\n",
       "</table>\n",
       "<p>2 rows × 40 columns</p>\n",
       "</div>"
      ],
      "text/plain": [
       "                        Timestamp  State                Age Gender  \\\n",
       "0  2021/05/22 3:11:51 PM GMT+5:30  Delhi  18 - 25 years old   Male   \n",
       "1  2021/05/22 3:14:54 PM GMT+5:30  Delhi  18 - 25 years old   Male   \n",
       "\n",
       "                Occupation Earning Members Household Income Income Affected  \\\n",
       "0  Private Sector Employee               2    10 - 20 lakhs       No change   \n",
       "1  Private Sector Employee       3 or more    10 - 20 lakhs       No change   \n",
       "\n",
       "  Loan Covid positive  ... Depression 6 Depression 7 Stress 1 Stress 2  \\\n",
       "0  Yes            Yes  ...            1            1        2        2   \n",
       "1   No             No  ...            0            1        1        0   \n",
       "\n",
       "  Stress 3 Stress 4 Stress 5  Stress 6  Stress 7  \\\n",
       "0        1        2        2         1         2   \n",
       "1        1        0        2         1         1   \n",
       "\n",
       "                              Most Experienced Issue  \n",
       "0  Depression (feeling of sadness, loss of intere...  \n",
       "1       Anxiety (feeling of worry, nervousness etc.)  \n",
       "\n",
       "[2 rows x 40 columns]"
      ]
     },
     "execution_count": 5,
     "metadata": {},
     "output_type": "execute_result"
    }
   ],
   "source": [
    "survey_data.head(2) #column names changed"
   ]
  },
  {
   "cell_type": "markdown",
   "id": "87bf1ac5",
   "metadata": {},
   "source": [
    "#### In the survey 21 questions were asked:\n",
    "\n",
    "- 7 questions were Anxiety related questions\n",
    "- 7 questions were Depresion related questions\n",
    "- And 7 questions were Stress related questions\n",
    "\n",
    "The below rating scale was available as options to the 21 questions asked which is as follows:\n",
    "\n",
    "- 0: Did not apply to me at all\n",
    "- 1: Applied to me to some degree, or some of the time\n",
    "- 2: Applied to me to a considerable degree or a good part of time\n",
    "- 3: Applied to me very much or most of the time\n"
   ]
  },
  {
   "cell_type": "code",
   "execution_count": 6,
   "id": "d133c35d",
   "metadata": {},
   "outputs": [],
   "source": [
    "## creating list of columns with questions related to Anxiety, Depression and Stress\n",
    "anxiety_cols = []\n",
    "depression_cols = []\n",
    "stress_cols = []\n",
    "\n",
    "for i in range(len(list(survey_data.columns))):\n",
    "    \n",
    "    rest1 = re.findall(\"Anxiety.*\", survey_data.columns[i])\n",
    "    rest2 = re.findall(\"Depression.*\", survey_data.columns[i])\n",
    "    rest3 = re.findall(\"Stress.*\", survey_data.columns[i])\n",
    "    \n",
    "    if len(rest1)>0:\n",
    "        anxiety_cols.append(rest1[0])\n",
    "    if len(rest2)>0:\n",
    "        depression_cols.append(rest2[0])\n",
    "    if len(rest3)>0:\n",
    "        stress_cols.append(rest3[0])"
   ]
  },
  {
   "cell_type": "markdown",
   "id": "1d39e737",
   "metadata": {},
   "source": [
    "- The final score for each of Anxiety, Depression and Stress is obtained by multiplying the total score of each of the category by 2"
   ]
  },
  {
   "cell_type": "code",
   "execution_count": 7,
   "id": "7725a72b",
   "metadata": {},
   "outputs": [],
   "source": [
    "#Obtaining Final Scores\n",
    "survey_data[\"Anxiety\"] = 2*survey_data[anxiety_cols].sum(axis=1)\n",
    "survey_data[\"Depression\"] = 2*survey_data[depression_cols].sum(axis=1)\n",
    "survey_data[\"Stress\"] = 2*survey_data[stress_cols].sum(axis=1)"
   ]
  },
  {
   "cell_type": "code",
   "execution_count": 8,
   "id": "84fdabde",
   "metadata": {},
   "outputs": [],
   "source": [
    "##Function to get the most prominent issue from the scoring based on DASS 21\n",
    "def get_most_prominent(score_a, score_d, score_s):\n",
    "    \n",
    "    \"\"\"Input: Anxiety score,\n",
    "              Depression score,\n",
    "              Stress score\n",
    "              \n",
    "      Output: Returns the most prominent issue\"\"\"\n",
    "    \n",
    "    if score_a>score_d and score_a>score_s:\n",
    "        return \"Anxiety\"\n",
    "    elif score_d>score_a and score_d>score_s:\n",
    "        return \"Depression\"\n",
    "    elif score_s>score_a and score_s>score_d:\n",
    "        return \"Stress\"\n",
    "    elif score_a==score_d and score_a>score_s:\n",
    "        return \"Anxiety, Depression\"\n",
    "    elif score_a==score_s and score_a>score_d:\n",
    "        return \"Anxiety, Stress\"\n",
    "    elif score_d==score_s and score_d>score_a:\n",
    "        return \"Depression, Stress\"\n",
    "    elif score_d==score_a==score_s:\n",
    "        return \"Anxiety, Depression, Stress\"\n",
    "\n",
    "#Get the max. score of all the 3 issues    \n",
    "def get_max_value(score_a, score_d, score_s):\n",
    "    \n",
    "    \"\"\"Input: Anxiety score,\n",
    "              Depression score,\n",
    "              Stress score\n",
    "              \n",
    "      Output: Returns the max. score\"\"\"\n",
    "    \n",
    "    return max(score_a, score_d, score_s)\n",
    "\n",
    "#To get the severity of the issue\n",
    "def get_severity(score, issue):\n",
    "    \n",
    "    \"\"\"Input: Max. score,\n",
    "              Most prominent issue(s)\n",
    "              \n",
    "      Output: Returns the severity of the issue\"\"\"\n",
    "    \n",
    "    if issue==\"Anxiety\" and score<10:\n",
    "        return \"Normal or Mild\"\n",
    "    elif issue==\"Anxiety\" and score<15:\n",
    "        return \"Moderate\"\n",
    "    elif issue==\"Anxiety\" and score>15:\n",
    "        return \"Severe\"\n",
    "    \n",
    "    if issue==\"Depression\" and score<14:\n",
    "        return \"Normal or Mild\"\n",
    "    elif issue==\"Depression\" and score<21:\n",
    "        return \"Moderate\"\n",
    "    elif issue==\"Depression\" and score>21:\n",
    "        return \"Severe\"\n",
    "    \n",
    "    if issue==\"Stress\" and score<19:\n",
    "        return \"Normal or Mild\"\n",
    "    if issue==\"Stress\" and score<26:\n",
    "        return \"Moderate\"\n",
    "    elif issue==\"Stress\" and score>26:\n",
    "        return \"Severe\"\n",
    "    \n",
    "    if issue!=\"Anxiety\" and issue!=\"Depression\" and issue!=\"Stress\" and score>21:\n",
    "        return \"Severe\"\n",
    "    elif issue!=\"Anxiety\" and issue!=\"Depression\" and issue!=\"Stress\" and score>21:\n",
    "        return \"Moderate\"\n",
    "    else: \n",
    "        return \"Normal or Mild\""
   ]
  },
  {
   "cell_type": "code",
   "execution_count": 9,
   "id": "9b1c770e",
   "metadata": {},
   "outputs": [],
   "source": [
    "survey_data[\"Max. Score\"] = survey_data.apply(lambda x: get_max_value(x[\"Anxiety\"], x[\"Depression\"], x[\"Stress\"]),axis=1)\n",
    "survey_data[\"Most Prominent Issue\"] = survey_data.apply(lambda x: get_most_prominent(x[\"Anxiety\"], x[\"Depression\"], x[\"Stress\"]),axis=1)\n",
    "survey_data[\"Severity\"] = survey_data.apply(lambda x: get_severity(x[\"Max. Score\"], x[\"Most Prominent Issue\"]),axis=1)"
   ]
  },
  {
   "cell_type": "code",
   "execution_count": 10,
   "id": "1ca95274",
   "metadata": {},
   "outputs": [
    {
     "data": {
      "text/plain": [
       "Stress                         181\n",
       "Depression                     125\n",
       "Anxiety                         74\n",
       "Anxiety, Depression, Stress     47\n",
       "Depression, Stress              38\n",
       "Anxiety, Depression             16\n",
       "Anxiety, Stress                 12\n",
       "Name: Most Prominent Issue, dtype: int64"
      ]
     },
     "execution_count": 10,
     "metadata": {},
     "output_type": "execute_result"
    }
   ],
   "source": [
    "survey_data[\"Most Prominent Issue\"].value_counts()"
   ]
  },
  {
   "cell_type": "code",
   "execution_count": 11,
   "id": "0934770b",
   "metadata": {},
   "outputs": [
    {
     "data": {
      "text/plain": [
       "None                                                                                            148\n",
       "Anxiety (feeling of worry, nervousness etc.)                                                    141\n",
       "Stress (feeling of being overwhelmed, unable to cope with mental or emotional pressure etc.)    132\n",
       "Depression (feeling of sadness, loss of interest etc.)                                           72\n",
       "Name: Most Experienced Issue, dtype: int64"
      ]
     },
     "execution_count": 11,
     "metadata": {},
     "output_type": "execute_result"
    }
   ],
   "source": [
    "survey_data[\"Most Experienced Issue\"].value_counts()"
   ]
  },
  {
   "cell_type": "code",
   "execution_count": 12,
   "id": "d599d4cd",
   "metadata": {},
   "outputs": [
    {
     "data": {
      "text/plain": [
       "Normal or Mild    267\n",
       "Severe            152\n",
       "Moderate           74\n",
       "Name: Severity, dtype: int64"
      ]
     },
     "execution_count": 12,
     "metadata": {},
     "output_type": "execute_result"
    }
   ],
   "source": [
    "survey_data[\"Severity\"].value_counts()"
   ]
  },
  {
   "cell_type": "code",
   "execution_count": 13,
   "id": "511d7baa",
   "metadata": {},
   "outputs": [],
   "source": [
    "severity_count_df = survey_data.groupby([\"Most Prominent Issue\"])[\"Severity\"].value_counts()\n",
    "issue_count_df = pd.DataFrame(survey_data.groupby([\"Most Experienced Issue\"])[\"Most Prominent Issue\"].value_counts())\n",
    "\n",
    "severity_count_df = pd.DataFrame(severity_count_df).rename(columns={\"Severity\":\"Severity Count\"})\n",
    "issue_count_df = pd.DataFrame(issue_count_df).rename(columns={\"Most Prominent Issue\":\"Issue Count\"})\n",
    "\n",
    "severity_count_df.reset_index(inplace=True)\n",
    "issue_count_df.reset_index(inplace=True)"
   ]
  },
  {
   "cell_type": "code",
   "execution_count": 14,
   "id": "822ea3e7",
   "metadata": {},
   "outputs": [
    {
     "data": {
      "text/html": [
       "<div>\n",
       "<style scoped>\n",
       "    .dataframe tbody tr th:only-of-type {\n",
       "        vertical-align: middle;\n",
       "    }\n",
       "\n",
       "    .dataframe tbody tr th {\n",
       "        vertical-align: top;\n",
       "    }\n",
       "\n",
       "    .dataframe thead th {\n",
       "        text-align: right;\n",
       "    }\n",
       "</style>\n",
       "<table border=\"1\" class=\"dataframe\">\n",
       "  <thead>\n",
       "    <tr style=\"text-align: right;\">\n",
       "      <th></th>\n",
       "      <th>Most Prominent Issue</th>\n",
       "      <th>Severity</th>\n",
       "      <th>Severity Count</th>\n",
       "    </tr>\n",
       "  </thead>\n",
       "  <tbody>\n",
       "    <tr>\n",
       "      <th>0</th>\n",
       "      <td>Anxiety</td>\n",
       "      <td>Normal or Mild</td>\n",
       "      <td>36</td>\n",
       "    </tr>\n",
       "    <tr>\n",
       "      <th>1</th>\n",
       "      <td>Anxiety</td>\n",
       "      <td>Severe</td>\n",
       "      <td>20</td>\n",
       "    </tr>\n",
       "    <tr>\n",
       "      <th>2</th>\n",
       "      <td>Anxiety</td>\n",
       "      <td>Moderate</td>\n",
       "      <td>18</td>\n",
       "    </tr>\n",
       "    <tr>\n",
       "      <th>3</th>\n",
       "      <td>Anxiety, Depression</td>\n",
       "      <td>Normal or Mild</td>\n",
       "      <td>9</td>\n",
       "    </tr>\n",
       "    <tr>\n",
       "      <th>4</th>\n",
       "      <td>Anxiety, Depression</td>\n",
       "      <td>Severe</td>\n",
       "      <td>7</td>\n",
       "    </tr>\n",
       "  </tbody>\n",
       "</table>\n",
       "</div>"
      ],
      "text/plain": [
       "  Most Prominent Issue        Severity  Severity Count\n",
       "0              Anxiety  Normal or Mild              36\n",
       "1              Anxiety          Severe              20\n",
       "2              Anxiety        Moderate              18\n",
       "3  Anxiety, Depression  Normal or Mild               9\n",
       "4  Anxiety, Depression          Severe               7"
      ]
     },
     "execution_count": 14,
     "metadata": {},
     "output_type": "execute_result"
    }
   ],
   "source": [
    "severity_count_df.head()"
   ]
  },
  {
   "cell_type": "markdown",
   "id": "9aaeba60",
   "metadata": {},
   "source": [
    "### Analysis"
   ]
  },
  {
   "cell_type": "markdown",
   "id": "763686d9",
   "metadata": {},
   "source": [
    "#### Question 1: What is most prevelant- Anxiety, Depression or Stress? (or multiple issues)\n",
    "\n",
    "Answer:\n",
    "\n",
    "- According to the chart below, we can see that Stress is the most prevelant followed by Depression then Anxiety"
   ]
  },
  {
   "cell_type": "code",
   "execution_count": 15,
   "id": "08459f2f",
   "metadata": {},
   "outputs": [
    {
     "data": {
      "image/png": "[encoded data removed]",
      "text/plain": [
       "<Figure size 1080x432 with 1 Axes>"
      ]
     },
     "metadata": {},
     "output_type": "display_data"
    }
   ],
   "source": [
    "issue_count = pd.DataFrame(survey_data[\"Most Prominent Issue\"].value_counts())\n",
    "issue_count.reset_index(inplace=True)\n",
    "issue_count = issue_count.rename(columns={\"index\": \"Issue\", \"Most Prominent Issue\":\"Counts\"}) \n",
    "\n",
    "sns.set(rc={'figure.figsize':(15, 6)})\n",
    "ax = sns.barplot(x = 'Issue',\n",
    "            y = \"Counts\",\n",
    "            data = issue_count)\n",
    "\n",
    "\n",
    "for container in ax.containers:\n",
    "    ax.bar_label(container) \n",
    "\n",
    "# Show the plot\n",
    "plt.show()"
   ]
  },
  {
   "cell_type": "markdown",
   "id": "6946224f",
   "metadata": {},
   "source": [
    "#### Question 2: What is the level of severity of mental health problems?\n",
    "\n",
    "Answer:\n",
    "\n",
    "- According to the chart below, we can see that almost 30% of the people who took part in the survey were having severe mental health problems"
   ]
  },
  {
   "cell_type": "code",
   "execution_count": 16,
   "id": "fd3fe7ef",
   "metadata": {},
   "outputs": [
    {
     "data": {
      "image/png": "[encoded data removed]",
      "text/plain": [
       "<Figure size 360x432 with 1 Axes>"
      ]
     },
     "metadata": {},
     "output_type": "display_data"
    }
   ],
   "source": [
    "severity_count = pd.DataFrame(survey_data[\"Severity\"].value_counts())\n",
    "severity_count.reset_index(inplace=True)\n",
    "severity_count = severity_count.rename(columns={\"index\": \"Severity\", \"Severity\":\"Counts\"}) \n",
    "\n",
    "sns.set(rc={'figure.figsize':(5, 6)})\n",
    "ax = sns.barplot(x = 'Severity',\n",
    "            y = \"Counts\",\n",
    "            data = severity_count)\n",
    "\n",
    "for container in ax.containers:\n",
    "    ax.bar_label(container) \n",
    "\n",
    "# Show the plot\n",
    "plt.show()"
   ]
  },
  {
   "cell_type": "markdown",
   "id": "f10a4900",
   "metadata": {},
   "source": [
    "#### Question 3: Which mental health issue is having the most severity?\n",
    "\n",
    "Answer:\n",
    "- According to the chart below, we can see that Stress and Depression have the most number of \"Severe\" cases"
   ]
  },
  {
   "cell_type": "code",
   "execution_count": 17,
   "id": "61113dca",
   "metadata": {
    "scrolled": false
   },
   "outputs": [
    {
     "data": {
      "image/png": "[encoded data removed]",
      "text/plain": [
       "<Figure size 1296x576 with 1 Axes>"
      ]
     },
     "metadata": {},
     "output_type": "display_data"
    }
   ],
   "source": [
    "sns.set(rc={'figure.figsize':(18, 8)})\n",
    "sns.barplot(x = 'Most Prominent Issue',\n",
    "            y = 'Severity Count',\n",
    "            hue = 'Severity',\n",
    "            data = severity_count_df)\n",
    " \n",
    "# Show the plot\n",
    "plt.show()"
   ]
  },
  {
   "cell_type": "markdown",
   "id": "bc62a560",
   "metadata": {},
   "source": [
    "### Additional Analysis: Identifying group with \"Severe\" mental health issues"
   ]
  },
  {
   "cell_type": "code",
   "execution_count": 18,
   "id": "81881763",
   "metadata": {},
   "outputs": [],
   "source": [
    "survey_data_subset = survey_data[survey_data[\"Severity\"]==\"Severe\"]\n",
    "survey_data_subset.reset_index(inplace=True, drop=True)"
   ]
  },
  {
   "cell_type": "markdown",
   "id": "707d60ea",
   "metadata": {},
   "source": [
    "#### 1. Age group"
   ]
  },
  {
   "cell_type": "code",
   "execution_count": 19,
   "id": "da6f9801",
   "metadata": {},
   "outputs": [
    {
     "data": {
      "text/html": [
       "<div>\n",
       "<style scoped>\n",
       "    .dataframe tbody tr th:only-of-type {\n",
       "        vertical-align: middle;\n",
       "    }\n",
       "\n",
       "    .dataframe tbody tr th {\n",
       "        vertical-align: top;\n",
       "    }\n",
       "\n",
       "    .dataframe thead th {\n",
       "        text-align: right;\n",
       "    }\n",
       "</style>\n",
       "<table border=\"1\" class=\"dataframe\">\n",
       "  <thead>\n",
       "    <tr style=\"text-align: right;\">\n",
       "      <th></th>\n",
       "      <th>Age</th>\n",
       "      <th>Counts</th>\n",
       "    </tr>\n",
       "  </thead>\n",
       "  <tbody>\n",
       "    <tr>\n",
       "      <th>0</th>\n",
       "      <td>18 - 25 years old</td>\n",
       "      <td>105</td>\n",
       "    </tr>\n",
       "    <tr>\n",
       "      <th>1</th>\n",
       "      <td>25 - 45 years old</td>\n",
       "      <td>21</td>\n",
       "    </tr>\n",
       "    <tr>\n",
       "      <th>2</th>\n",
       "      <td>45+ years old</td>\n",
       "      <td>20</td>\n",
       "    </tr>\n",
       "    <tr>\n",
       "      <th>3</th>\n",
       "      <td>16 - 18 years old</td>\n",
       "      <td>5</td>\n",
       "    </tr>\n",
       "    <tr>\n",
       "      <th>4</th>\n",
       "      <td>&lt; 16 years old</td>\n",
       "      <td>1</td>\n",
       "    </tr>\n",
       "  </tbody>\n",
       "</table>\n",
       "</div>"
      ],
      "text/plain": [
       "                 Age  Counts\n",
       "0  18 - 25 years old     105\n",
       "1  25 - 45 years old      21\n",
       "2      45+ years old      20\n",
       "3  16 - 18 years old       5\n",
       "4     < 16 years old       1"
      ]
     },
     "execution_count": 19,
     "metadata": {},
     "output_type": "execute_result"
    }
   ],
   "source": [
    "age_count = pd.DataFrame(survey_data_subset[\"Age\"].value_counts())\n",
    "age_count.reset_index(inplace=True)\n",
    "age_count = age_count.rename(columns={\"index\": \"Age\", \"Age\":\"Counts\"}) \n",
    "age_count"
   ]
  },
  {
   "cell_type": "markdown",
   "id": "2b5e4a9b",
   "metadata": {},
   "source": [
    "#### 2. According to occupation type"
   ]
  },
  {
   "cell_type": "code",
   "execution_count": 20,
   "id": "69518e66",
   "metadata": {},
   "outputs": [
    {
     "data": {
      "text/html": [
       "<div>\n",
       "<style scoped>\n",
       "    .dataframe tbody tr th:only-of-type {\n",
       "        vertical-align: middle;\n",
       "    }\n",
       "\n",
       "    .dataframe tbody tr th {\n",
       "        vertical-align: top;\n",
       "    }\n",
       "\n",
       "    .dataframe thead th {\n",
       "        text-align: right;\n",
       "    }\n",
       "</style>\n",
       "<table border=\"1\" class=\"dataframe\">\n",
       "  <thead>\n",
       "    <tr style=\"text-align: right;\">\n",
       "      <th></th>\n",
       "      <th>Occupation</th>\n",
       "      <th>Occupation</th>\n",
       "    </tr>\n",
       "  </thead>\n",
       "  <tbody>\n",
       "    <tr>\n",
       "      <th>0</th>\n",
       "      <td>Private Sector Employee</td>\n",
       "      <td>69</td>\n",
       "    </tr>\n",
       "    <tr>\n",
       "      <th>1</th>\n",
       "      <td>Student</td>\n",
       "      <td>56</td>\n",
       "    </tr>\n",
       "    <tr>\n",
       "      <th>2</th>\n",
       "      <td>Unemployed</td>\n",
       "      <td>9</td>\n",
       "    </tr>\n",
       "    <tr>\n",
       "      <th>3</th>\n",
       "      <td>Self Employed</td>\n",
       "      <td>9</td>\n",
       "    </tr>\n",
       "    <tr>\n",
       "      <th>4</th>\n",
       "      <td>Government Employee</td>\n",
       "      <td>7</td>\n",
       "    </tr>\n",
       "    <tr>\n",
       "      <th>5</th>\n",
       "      <td>Homemaker</td>\n",
       "      <td>2</td>\n",
       "    </tr>\n",
       "  </tbody>\n",
       "</table>\n",
       "</div>"
      ],
      "text/plain": [
       "                Occupation  Occupation\n",
       "0  Private Sector Employee          69\n",
       "1                  Student          56\n",
       "2               Unemployed           9\n",
       "3            Self Employed           9\n",
       "4      Government Employee           7\n",
       "5                Homemaker           2"
      ]
     },
     "execution_count": 20,
     "metadata": {},
     "output_type": "execute_result"
    }
   ],
   "source": [
    "occupation_count = pd.DataFrame(survey_data_subset[\"Occupation\"].value_counts())\n",
    "occupation_count.reset_index(inplace=True)\n",
    "occupation_count = occupation_count.rename(columns={\"index\": \"Occupation\", \"occupation\":\"Counts\"}) \n",
    "occupation_count"
   ]
  },
  {
   "cell_type": "markdown",
   "id": "9ee83575",
   "metadata": {},
   "source": [
    "#### 3. According to gender"
   ]
  },
  {
   "cell_type": "code",
   "execution_count": 21,
   "id": "f83d76b3",
   "metadata": {},
   "outputs": [
    {
     "data": {
      "text/html": [
       "<div>\n",
       "<style scoped>\n",
       "    .dataframe tbody tr th:only-of-type {\n",
       "        vertical-align: middle;\n",
       "    }\n",
       "\n",
       "    .dataframe tbody tr th {\n",
       "        vertical-align: top;\n",
       "    }\n",
       "\n",
       "    .dataframe thead th {\n",
       "        text-align: right;\n",
       "    }\n",
       "</style>\n",
       "<table border=\"1\" class=\"dataframe\">\n",
       "  <thead>\n",
       "    <tr style=\"text-align: right;\">\n",
       "      <th></th>\n",
       "      <th>Gender</th>\n",
       "      <th>Gender</th>\n",
       "    </tr>\n",
       "  </thead>\n",
       "  <tbody>\n",
       "    <tr>\n",
       "      <th>0</th>\n",
       "      <td>Female</td>\n",
       "      <td>78</td>\n",
       "    </tr>\n",
       "    <tr>\n",
       "      <th>1</th>\n",
       "      <td>Male</td>\n",
       "      <td>74</td>\n",
       "    </tr>\n",
       "  </tbody>\n",
       "</table>\n",
       "</div>"
      ],
      "text/plain": [
       "   Gender  Gender\n",
       "0  Female      78\n",
       "1    Male      74"
      ]
     },
     "execution_count": 21,
     "metadata": {},
     "output_type": "execute_result"
    }
   ],
   "source": [
    "gender_count = pd.DataFrame(survey_data_subset[\"Gender\"].value_counts())\n",
    "gender_count.reset_index(inplace=True)\n",
    "gender_count = gender_count.rename(columns={\"index\": \"Gender\", \"gender\":\"Counts\"}) \n",
    "gender_count"
   ]
  },
  {
   "cell_type": "markdown",
   "id": "f62a8ff2",
   "metadata": {},
   "source": [
    "#### 4. According to household income"
   ]
  },
  {
   "cell_type": "code",
   "execution_count": 22,
   "id": "8fc47a9f",
   "metadata": {},
   "outputs": [
    {
     "data": {
      "text/html": [
       "<div>\n",
       "<style scoped>\n",
       "    .dataframe tbody tr th:only-of-type {\n",
       "        vertical-align: middle;\n",
       "    }\n",
       "\n",
       "    .dataframe tbody tr th {\n",
       "        vertical-align: top;\n",
       "    }\n",
       "\n",
       "    .dataframe thead th {\n",
       "        text-align: right;\n",
       "    }\n",
       "</style>\n",
       "<table border=\"1\" class=\"dataframe\">\n",
       "  <thead>\n",
       "    <tr style=\"text-align: right;\">\n",
       "      <th></th>\n",
       "      <th>Income</th>\n",
       "      <th>Household Income</th>\n",
       "    </tr>\n",
       "  </thead>\n",
       "  <tbody>\n",
       "    <tr>\n",
       "      <th>0</th>\n",
       "      <td>10 - 20 lakhs</td>\n",
       "      <td>56</td>\n",
       "    </tr>\n",
       "    <tr>\n",
       "      <th>1</th>\n",
       "      <td>5 - 10 lakhs</td>\n",
       "      <td>40</td>\n",
       "    </tr>\n",
       "    <tr>\n",
       "      <th>2</th>\n",
       "      <td>Less than 5 lakhs</td>\n",
       "      <td>35</td>\n",
       "    </tr>\n",
       "    <tr>\n",
       "      <th>3</th>\n",
       "      <td>More than 20 lakhs</td>\n",
       "      <td>21</td>\n",
       "    </tr>\n",
       "  </tbody>\n",
       "</table>\n",
       "</div>"
      ],
      "text/plain": [
       "               Income  Household Income\n",
       "0       10 - 20 lakhs                56\n",
       "1        5 - 10 lakhs                40\n",
       "2   Less than 5 lakhs                35\n",
       "3  More than 20 lakhs                21"
      ]
     },
     "execution_count": 22,
     "metadata": {},
     "output_type": "execute_result"
    }
   ],
   "source": [
    "income_count = pd.DataFrame(survey_data_subset[\"Household Income\"].value_counts())\n",
    "income_count.reset_index(inplace=True)\n",
    "income_count = income_count.rename(columns={\"index\": \"Income\", \"income\":\"Counts\"}) \n",
    "income_count"
   ]
  },
  {
   "cell_type": "markdown",
   "id": "731fd390",
   "metadata": {},
   "source": [
    "#### 5. According to change in income"
   ]
  },
  {
   "cell_type": "code",
   "execution_count": 23,
   "id": "b4585eb4",
   "metadata": {},
   "outputs": [
    {
     "data": {
      "text/html": [
       "<div>\n",
       "<style scoped>\n",
       "    .dataframe tbody tr th:only-of-type {\n",
       "        vertical-align: middle;\n",
       "    }\n",
       "\n",
       "    .dataframe tbody tr th {\n",
       "        vertical-align: top;\n",
       "    }\n",
       "\n",
       "    .dataframe thead th {\n",
       "        text-align: right;\n",
       "    }\n",
       "</style>\n",
       "<table border=\"1\" class=\"dataframe\">\n",
       "  <thead>\n",
       "    <tr style=\"text-align: right;\">\n",
       "      <th></th>\n",
       "      <th>Income Change</th>\n",
       "      <th>Income Affected</th>\n",
       "    </tr>\n",
       "  </thead>\n",
       "  <tbody>\n",
       "    <tr>\n",
       "      <th>0</th>\n",
       "      <td>Decreased slightly</td>\n",
       "      <td>52</td>\n",
       "    </tr>\n",
       "    <tr>\n",
       "      <th>1</th>\n",
       "      <td>No change</td>\n",
       "      <td>51</td>\n",
       "    </tr>\n",
       "    <tr>\n",
       "      <th>2</th>\n",
       "      <td>Decreased significantly</td>\n",
       "      <td>42</td>\n",
       "    </tr>\n",
       "    <tr>\n",
       "      <th>3</th>\n",
       "      <td>Increased slighltly</td>\n",
       "      <td>6</td>\n",
       "    </tr>\n",
       "    <tr>\n",
       "      <th>4</th>\n",
       "      <td>Increased significantly</td>\n",
       "      <td>1</td>\n",
       "    </tr>\n",
       "  </tbody>\n",
       "</table>\n",
       "</div>"
      ],
      "text/plain": [
       "             Income Change  Income Affected\n",
       "0       Decreased slightly               52\n",
       "1                No change               51\n",
       "2  Decreased significantly               42\n",
       "3      Increased slighltly                6\n",
       "4  Increased significantly                1"
      ]
     },
     "execution_count": 23,
     "metadata": {},
     "output_type": "execute_result"
    }
   ],
   "source": [
    "income_change_count = pd.DataFrame(survey_data_subset[\"Income Affected\"].value_counts())\n",
    "income_change_count.reset_index(inplace=True)\n",
    "income_change_count = income_change_count.rename(columns={\"index\": \"Income Change\", \"income_change\":\"Counts\"}) \n",
    "income_change_count"
   ]
  },
  {
   "cell_type": "markdown",
   "id": "0e82da74",
   "metadata": {},
   "source": [
    "##### From the above 5 tables we can see that private sector employees with the age group of 18-25 years old are having the most number of severe cases\n",
    "\n",
    "Data Modeling was not performed as we were able to answer the questions with the EDA/data analysis"
   ]
  }
 ],
 "metadata": {
  "kernelspec": {
   "display_name": "Python 3 (ipykernel)",
   "language": "python",
   "name": "python3"
  },
  "language_info": {
   "codemirror_mode": {
    "name": "ipython",
    "version": 3
   },
   "file_extension": ".py",
   "mimetype": "text/x-python",
   "name": "python",
   "nbconvert_exporter": "python",
   "pygments_lexer": "ipython3",
   "version": "3.9.7"
  }
 },
 "nbformat": 4,
 "nbformat_minor": 5
}
