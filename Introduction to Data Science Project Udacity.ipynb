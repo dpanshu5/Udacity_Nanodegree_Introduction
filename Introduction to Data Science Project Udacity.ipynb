{
 "cells": [
  {
   "cell_type": "markdown",
   "id": "c03a8424",
   "metadata": {},
   "source": [
    "### Business Objective/Understanding"
   ]
  },
  {
   "cell_type": "markdown",
   "id": "a27585db",
   "metadata": {},
   "source": [
    "#### This analysis is focused on a data obtained from a survey in May-June 2021 in India about the psychological impact of second wave of COVID-19 on the Indian population. Three main questions which we aim to get from our analysis:\n",
    "\n",
    "- To identify whether Depression, Anxiety or Stress is the most prevelant\n",
    "- To find out the level of severity of the mental health issues\n",
    "- To identify which mental health problem is having the most severity across people\n",
    "\n",
    "A standard questionnaire (DASS 21) was used in the survey which helped in calculating the level of severity of each mental health issue i.e., Anxiety, Depression and Stress (please find its link below)"
   ]
  },
  {
   "cell_type": "markdown",
   "id": "70667655",
   "metadata": {},
   "source": [
    "Survey Link: https://docs.google.com/forms/d/1TwdH5pWl6R_K-rWfscVPHwFUfw6tIS9hS91pQ5lFpxQ/edit\n",
    "\n",
    "Document for DASS 21 score: https://maic.qld.gov.au/wp-content/uploads/2016/07/DASS-21.pdf\n",
    "\n",
    "Medium Blog: https://medium.com/@deepanshupandey195/towards-understanding-the-psychological-impact-of-covid-19-on-indian-population-a553932df325"
   ]
  },
  {
   "cell_type": "markdown",
   "id": "267bdd0c",
   "metadata": {},
   "source": [
    "#### Importing Relevant Libraries"
   ]
  },
  {
   "cell_type": "code",
   "execution_count": 1,
   "id": "c3708477",
   "metadata": {},
   "outputs": [],
   "source": [
    "import pandas as pd\n",
    "import matplotlib.pyplot as plt\n",
    "import re\n",
    "import seaborn as sns\n",
    "import warnings\n",
    "warnings.filterwarnings(\"ignore\")"
   ]
  },
  {
   "cell_type": "code",
   "execution_count": 2,
   "id": "dd2e6a6b",
   "metadata": {},
   "outputs": [
    {
     "ename": "NameError",
     "evalue": "name 'survey_data' is not defined",
     "output_type": "error",
     "traceback": [
      "\u001b[1;31m---------------------------------------------------------------------------\u001b[0m",
      "\u001b[1;31mNameError\u001b[0m                                 Traceback (most recent call last)",
      "\u001b[1;32m~\\AppData\\Local\\Temp/ipykernel_6316/3644974193.py\u001b[0m in \u001b[0;36m<module>\u001b[1;34m\u001b[0m\n\u001b[1;32m----> 1\u001b[1;33m \u001b[0msurvey_data\u001b[0m\u001b[1;33m.\u001b[0m\u001b[0mshape\u001b[0m\u001b[1;33m\u001b[0m\u001b[1;33m\u001b[0m\u001b[0m\n\u001b[0m",
      "\u001b[1;31mNameError\u001b[0m: name 'survey_data' is not defined"
     ]
    }
   ],
   "source": [
    "survey_data.shape"
   ]
  },
  {
   "cell_type": "markdown",
   "id": "94e747fd",
   "metadata": {},
   "source": [
    "#### Loading Survey Data"
   ]
  },
  {
   "cell_type": "code",
   "execution_count": null,
   "id": "d9aa39d4",
   "metadata": {},
   "outputs": [],
   "source": [
    "survey_data = pd.read_csv(\"Covid 19 Mental Health Survey.csv\")\n",
    "col_name_df = pd.read_csv(\"Column Names for Dataframe.csv\")"
   ]
  },
  {
   "cell_type": "code",
   "execution_count": null,
   "id": "421d4c1b",
   "metadata": {},
   "outputs": [],
   "source": [
    "survey_data.head(2) #printing head of data to see the column names; survey questions are column names"
   ]
  },
  {
   "cell_type": "code",
   "execution_count": null,
   "id": "e1198689",
   "metadata": {},
   "outputs": [],
   "source": [
    "survey_data.columns = list(col_name_df[\"Column Name \"]) \n",
    "#Loading column data frame to change survey questions to relevant col names"
   ]
  },
  {
   "cell_type": "code",
   "execution_count": null,
   "id": "355e125b",
   "metadata": {},
   "outputs": [],
   "source": [
    "survey_data.head(2) #column names changed"
   ]
  },
  {
   "cell_type": "markdown",
   "id": "7cd51ed6",
   "metadata": {},
   "source": [
    "#### In the survey 21 questions were asked:\n",
    "\n",
    "- 7 questions were Anxiety related questions\n",
    "- 7 questions were Depresion related questions\n",
    "- And 7 questions were Stress related questions\n",
    "\n",
    "The below rating scale was available as options to the 21 questions asked which is as follows:\n",
    "\n",
    "- 0: Did not apply to me at all\n",
    "- 1: Applied to me to some degree, or some of the time\n",
    "- 2: Applied to me to a considerable degree or a good part of time\n",
    "- 3: Applied to me very much or most of the time\n"
   ]
  },
  {
   "cell_type": "code",
   "execution_count": null,
   "id": "d133c35d",
   "metadata": {},
   "outputs": [],
   "source": [
    "## creating list of columns with questions related to Anxiety, Depression and Stress\n",
    "anxiety_cols = []\n",
    "depression_cols = []\n",
    "stress_cols = []\n",
    "\n",
    "for i in range(len(list(survey_data.columns))):\n",
    "    \n",
    "    rest1 = re.findall(\"Anxiety.*\", survey_data.columns[i])\n",
    "    rest2 = re.findall(\"Depression.*\", survey_data.columns[i])\n",
    "    rest3 = re.findall(\"Stress.*\", survey_data.columns[i])\n",
    "    \n",
    "    if len(rest1)>0:\n",
    "        anxiety_cols.append(rest1[0])\n",
    "    if len(rest2)>0:\n",
    "        depression_cols.append(rest2[0])\n",
    "    if len(rest3)>0:\n",
    "        stress_cols.append(rest3[0])"
   ]
  },
  {
   "cell_type": "markdown",
   "id": "6c435a37",
   "metadata": {},
   "source": [
    "- The final score for each of Anxiety, Depression and Stress is obtained by multiplying the total score of each of the category by 2"
   ]
  },
  {
   "cell_type": "code",
   "execution_count": null,
   "id": "7725a72b",
   "metadata": {},
   "outputs": [],
   "source": [
    "#Obtaining Final Scores\n",
    "survey_data[\"Anxiety\"] = 2*survey_data[anxiety_cols].sum(axis=1)\n",
    "survey_data[\"Depression\"] = 2*survey_data[depression_cols].sum(axis=1)\n",
    "survey_data[\"Stress\"] = 2*survey_data[stress_cols].sum(axis=1)"
   ]
  },
  {
   "cell_type": "code",
   "execution_count": null,
   "id": "84fdabde",
   "metadata": {},
   "outputs": [],
   "source": [
    "##Function to get the most prominent issue from the scoring based on DASS 21\n",
    "def get_most_prominent(score_a, score_d, score_s):\n",
    "    \n",
    "    \"\"\"Input: Anxiety score,\n",
    "              Depression score,\n",
    "              Stress score\n",
    "              \n",
    "      Output: Returns the most prominent issue\"\"\"\n",
    "    \n",
    "    if score_a>score_d and score_a>score_s:\n",
    "        return \"Anxiety\"\n",
    "    elif score_d>score_a and score_d>score_s:\n",
    "        return \"Depression\"\n",
    "    elif score_s>score_a and score_s>score_d:\n",
    "        return \"Stress\"\n",
    "    elif score_a==score_d and score_a>score_s:\n",
    "        return \"Anxiety, Depression\"\n",
    "    elif score_a==score_s and score_a>score_d:\n",
    "        return \"Anxiety, Stress\"\n",
    "    elif score_d==score_s and score_d>score_a:\n",
    "        return \"Depression, Stress\"\n",
    "    elif score_d==score_a==score_s:\n",
    "        return \"Anxiety, Depression, Stress\"\n",
    "\n",
    "#Get the max. score of all the 3 issues    \n",
    "def get_max_value(score_a, score_d, score_s):\n",
    "    \n",
    "    \"\"\"Input: Anxiety score,\n",
    "              Depression score,\n",
    "              Stress score\n",
    "              \n",
    "      Output: Returns the max. score\"\"\"\n",
    "    \n",
    "    return max(score_a, score_d, score_s)\n",
    "\n",
    "#To get the severity of the issue\n",
    "def get_severity(score, issue):\n",
    "    \n",
    "    \"\"\"Input: Max. score,\n",
    "              Most prominent issue(s)\n",
    "              \n",
    "      Output: Returns the severity of the issue\"\"\"\n",
    "    \n",
    "    if issue==\"Anxiety\" and score<10:\n",
    "        return \"Normal or Mild\"\n",
    "    elif issue==\"Anxiety\" and score<15:\n",
    "        return \"Moderate\"\n",
    "    elif issue==\"Anxiety\" and score>15:\n",
    "        return \"Severe\"\n",
    "    \n",
    "    if issue==\"Depression\" and score<14:\n",
    "        return \"Normal or Mild\"\n",
    "    elif issue==\"Depression\" and score<21:\n",
    "        return \"Moderate\"\n",
    "    elif issue==\"Depression\" and score>21:\n",
    "        return \"Severe\"\n",
    "    \n",
    "    if issue==\"Stress\" and score<19:\n",
    "        return \"Normal or Mild\"\n",
    "    if issue==\"Stress\" and score<26:\n",
    "        return \"Moderate\"\n",
    "    elif issue==\"Stress\" and score>26:\n",
    "        return \"Severe\"\n",
    "    \n",
    "    if issue!=\"Anxiety\" and issue!=\"Depression\" and issue!=\"Stress\" and score>21:\n",
    "        return \"Severe\"\n",
    "    elif issue!=\"Anxiety\" and issue!=\"Depression\" and issue!=\"Stress\" and score>21:\n",
    "        return \"Moderate\"\n",
    "    else: \n",
    "        return \"Normal or Mild\""
   ]
  },
  {
   "cell_type": "code",
   "execution_count": null,
   "id": "9b1c770e",
   "metadata": {},
   "outputs": [],
   "source": [
    "survey_data[\"Max. Score\"] = survey_data.apply(lambda x: get_max_value(x[\"Anxiety\"], x[\"Depression\"], x[\"Stress\"]),axis=1)\n",
    "survey_data[\"Most Prominent Issue\"] = survey_data.apply(lambda x: get_most_prominent(x[\"Anxiety\"], x[\"Depression\"], x[\"Stress\"]),axis=1)\n",
    "survey_data[\"Severity\"] = survey_data.apply(lambda x: get_severity(x[\"Max. Score\"], x[\"Most Prominent Issue\"]),axis=1)"
   ]
  },
  {
   "cell_type": "code",
   "execution_count": null,
   "id": "1ca95274",
   "metadata": {},
   "outputs": [],
   "source": [
    "survey_data[\"Most Prominent Issue\"].value_counts()"
   ]
  },
  {
   "cell_type": "code",
   "execution_count": null,
   "id": "0934770b",
   "metadata": {},
   "outputs": [],
   "source": [
    "survey_data[\"Most Experienced Issue\"].value_counts()"
   ]
  },
  {
   "cell_type": "code",
   "execution_count": null,
   "id": "d599d4cd",
   "metadata": {},
   "outputs": [],
   "source": [
    "survey_data[\"Severity\"].value_counts()"
   ]
  },
  {
   "cell_type": "code",
   "execution_count": null,
   "id": "511d7baa",
   "metadata": {},
   "outputs": [],
   "source": [
    "severity_count_df = survey_data.groupby([\"Most Prominent Issue\"])[\"Severity\"].value_counts()\n",
    "issue_count_df = pd.DataFrame(survey_data.groupby([\"Most Experienced Issue\"])[\"Most Prominent Issue\"].value_counts())\n",
    "\n",
    "severity_count_df = pd.DataFrame(severity_count_df).rename(columns={\"Severity\":\"Severity Count\"})\n",
    "issue_count_df = pd.DataFrame(issue_count_df).rename(columns={\"Most Prominent Issue\":\"Issue Count\"})\n",
    "\n",
    "severity_count_df.reset_index(inplace=True)\n",
    "issue_count_df.reset_index(inplace=True)"
   ]
  },
  {
   "cell_type": "code",
   "execution_count": null,
   "id": "83d50e12",
   "metadata": {},
   "outputs": [],
   "source": [
    "severity_count_df.head()"
   ]
  },
  {
   "cell_type": "markdown",
   "id": "56e61eb3",
   "metadata": {},
   "source": [
    "### Analysis"
   ]
  },
  {
   "cell_type": "markdown",
   "id": "873ccf02",
   "metadata": {},
   "source": [
    "#### Question 1: What is most prevelant- Anxiety, Depression or Stress? (or multiple issues)\n",
    "\n",
    "Answer:\n",
    "\n",
    "- According to the chart below, we can see that Stress is the most prevelant followed by Depression then Anxiety"
   ]
  },
  {
   "cell_type": "code",
   "execution_count": null,
   "id": "453a7b2c",
   "metadata": {},
   "outputs": [],
   "source": [
    "issue_count = pd.DataFrame(survey_data[\"Most Prominent Issue\"].value_counts())\n",
    "issue_count.reset_index(inplace=True)\n",
    "issue_count = issue_count.rename(columns={\"index\": \"Issue\", \"Most Prominent Issue\":\"Counts\"}) \n",
    "\n",
    "sns.set(rc={'figure.figsize':(15, 6)})\n",
    "ax = sns.barplot(x = 'Issue',\n",
    "            y = \"Counts\",\n",
    "            data = issue_count)\n",
    "\n",
    "\n",
    "for container in ax.containers:\n",
    "    ax.bar_label(container) \n",
    "\n",
    "# Show the plot\n",
    "plt.show()"
   ]
  },
  {
   "cell_type": "markdown",
   "id": "8fef7867",
   "metadata": {},
   "source": [
    "#### Question 2: What is the level of severity of mental health problems?\n",
    "\n",
    "Answer:\n",
    "\n",
    "- According to the chart below, we can see that almost 30% of the people who took part in the survey were having severe mental health problems"
   ]
  },
  {
   "cell_type": "code",
   "execution_count": null,
   "id": "6c2321f0",
   "metadata": {},
   "outputs": [],
   "source": [
    "sns.set(rc={'figure.figsize':(5, 6)})\n",
    "ax = sns.barplot(x = 'Severity',\n",
    "            y = \"Counts\",\n",
    "            data = severity_count)\n",
    "\n",
    "for container in ax.containers:\n",
    "    ax.bar_label(container) \n",
    "\n",
    "# Show the plot\n",
    "plt.show()"
   ]
  },
  {
   "cell_type": "markdown",
   "id": "b19e55d3",
   "metadata": {},
   "source": [
    "#### Question 3: Which mental health issue is having the most severity?\n",
    "\n",
    "Answer:\n",
    "- According to the chart below, we can see that Stress and Depression have the most number of \"Severe\" cases"
   ]
  },
  {
   "cell_type": "code",
   "execution_count": null,
   "id": "7e87d8b9",
   "metadata": {
    "scrolled": false
   },
   "outputs": [],
   "source": [
    "sns.set(rc={'figure.figsize':(18, 9)})\n",
    "ax = sns.barplot(x = 'Most Prominent Issue',\n",
    "            y = 'Severity Count',\n",
    "            hue = 'Severity',\n",
    "            data = severity_count_df)\n",
    "\n",
    "for container in ax.containers:\n",
    "    ax.bar_label(container) \n",
    "\n",
    "# Show the plot\n",
    "plt.show()"
   ]
  },
  {
   "cell_type": "markdown",
   "id": "43ab68b4",
   "metadata": {},
   "source": [
    "### Additional Analysis: Identifying group with \"Severe\" mental health issues"
   ]
  },
  {
   "cell_type": "code",
   "execution_count": null,
   "id": "9b21eba8",
   "metadata": {},
   "outputs": [],
   "source": [
    "survey_data_subset = survey_data[survey_data[\"Severity\"]==\"Severe\"]\n",
    "survey_data_subset.reset_index(inplace=True, drop=True)"
   ]
  },
  {
   "cell_type": "markdown",
   "id": "14a2f27c",
   "metadata": {},
   "source": [
    "#### 1. Age group"
   ]
  },
  {
   "cell_type": "code",
   "execution_count": null,
   "id": "2b27485f",
   "metadata": {},
   "outputs": [],
   "source": [
    "age_count = pd.DataFrame(survey_data_subset[\"Age\"].value_counts())\n",
    "age_count.reset_index(inplace=True)\n",
    "age_count = age_count.rename(columns={\"index\": \"Age\", \"Age\":\"Counts\"}) \n",
    "age_count"
   ]
  },
  {
   "cell_type": "markdown",
   "id": "e5639e28",
   "metadata": {},
   "source": [
    "#### 2. According to occupation type"
   ]
  },
  {
   "cell_type": "code",
   "execution_count": null,
   "id": "738ed4de",
   "metadata": {},
   "outputs": [],
   "source": [
    "occupation_count = pd.DataFrame(survey_data_subset[\"Occupation\"].value_counts())\n",
    "occupation_count.reset_index(inplace=True)\n",
    "occupation_count = occupation_count.rename(columns={\"index\": \"Occupation\", \"occupation\":\"Counts\"}) \n",
    "occupation_count"
   ]
  },
  {
   "cell_type": "markdown",
   "id": "23bd7466",
   "metadata": {},
   "source": [
    "#### 3. According to gender"
   ]
  },
  {
   "cell_type": "code",
   "execution_count": null,
   "id": "08514177",
   "metadata": {},
   "outputs": [],
   "source": [
    "gender_count = pd.DataFrame(survey_data_subset[\"Gender\"].value_counts())\n",
    "gender_count.reset_index(inplace=True)\n",
    "gender_count = gender_count.rename(columns={\"index\": \"Gender\", \"gender\":\"Counts\"}) \n",
    "gender_count"
   ]
  },
  {
   "cell_type": "markdown",
   "id": "83ad6031",
   "metadata": {},
   "source": [
    "#### 4. According to household income"
   ]
  },
  {
   "cell_type": "code",
   "execution_count": null,
   "id": "c669524a",
   "metadata": {},
   "outputs": [],
   "source": [
    "income_count = pd.DataFrame(survey_data_subset[\"Household Income\"].value_counts())\n",
    "income_count.reset_index(inplace=True)\n",
    "income_count = income_count.rename(columns={\"index\": \"Income\", \"income\":\"Counts\"}) \n",
    "income_count"
   ]
  },
  {
   "cell_type": "markdown",
   "id": "fa21719e",
   "metadata": {},
   "source": [
    "#### 5. According to change in income"
   ]
  },
  {
   "cell_type": "code",
   "execution_count": null,
   "id": "100fbd77",
   "metadata": {},
   "outputs": [],
   "source": [
    "income_change_count = pd.DataFrame(survey_data_subset[\"Income Affected\"].value_counts())\n",
    "income_change_count.reset_index(inplace=True)\n",
    "income_change_count = income_change_count.rename(columns={\"index\": \"Income Change\", \"income_change\":\"Counts\"}) \n",
    "income_change_count"
   ]
  },
  {
   "cell_type": "markdown",
   "id": "24b33424",
   "metadata": {},
   "source": [
    "##### From the above 5 tables we can see that private sector employees with the age group of 18-25 years old are having the most number of severe cases\n",
    "\n",
    "Data Modeling was not performed as we were able to answer the questions with the EDA/data analysis"
   ]
  }
 ],
 "metadata": {
  "kernelspec": {
   "display_name": "Python 3 (ipykernel)",
   "language": "python",
   "name": "python3"
  },
  "language_info": {
   "codemirror_mode": {
    "name": "ipython",
    "version": 3
   },
   "file_extension": ".py",
   "mimetype": "text/x-python",
   "name": "python",
   "nbconvert_exporter": "python",
   "pygments_lexer": "ipython3",
   "version": "3.9.7"
  }
 },
 "nbformat": 4,
 "nbformat_minor": 5
}
